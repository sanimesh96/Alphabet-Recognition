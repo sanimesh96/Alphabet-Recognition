{
  "nbformat": 4,
  "nbformat_minor": 0,
  "metadata": {
    "colab": {
      "name": "Inference(Alphabet Recognition).ipynb",
      "provenance": []
    },
    "kernelspec": {
      "name": "python3",
      "display_name": "Python 3"
    },
    "language_info": {
      "name": "python"
    },
    "accelerator": "GPU"
  },
  "cells": [
    {
      "cell_type": "code",
      "metadata": {
        "id": "vZmBtCo7yjtt"
      },
      "source": [
        "import torch\n",
        "import torchvision\n",
        "import torchvision.transforms as transforms\n",
        "from PIL import Image"
      ],
      "execution_count": 11,
      "outputs": []
    },
    {
      "cell_type": "code",
      "metadata": {
        "colab": {
          "base_uri": "https://localhost:8080/",
          "height": 259
        },
        "id": "seQUX6t-yxt5",
        "outputId": "3b7ff250-deb0-4a10-d430-3c0c1b826c13"
      },
      "source": [
        "img = Image.open(\"C.jpg\")\n",
        "img"
      ],
      "execution_count": 12,
      "outputs": [
        {
          "output_type": "execute_result",
          "data": {
            "image/png": "[encoded data removed]",
            "text/plain": [
              "<PIL.JpegImagePlugin.JpegImageFile image mode=RGB size=236x242 at 0x7FAB46DBC610>"
            ]
          },
          "metadata": {
            "tags": []
          },
          "execution_count": 12
        }
      ]
    },
    {
      "cell_type": "code",
      "metadata": {
        "id": "V6SB7anLy8fp"
      },
      "source": [
        "trans = transforms.Compose([transforms.ToTensor()])\n",
        "transimg = trans(img)"
      ],
      "execution_count": 13,
      "outputs": []
    },
    {
      "cell_type": "code",
      "metadata": {
        "id": "Fx3CfxOwz1UR"
      },
      "source": [
        "model = torchvision.models.shufflenet_v2_x0_5(pretrained=False)\n",
        "model.fc = torch.nn.Linear(1024,26)"
      ],
      "execution_count": 14,
      "outputs": []
    },
    {
      "cell_type": "code",
      "metadata": {
        "colab": {
          "base_uri": "https://localhost:8080/"
        },
        "id": "vZ-HIL4xz5N1",
        "outputId": "fa4b0014-30fa-426f-e87d-7ecbeeb2f280"
      },
      "source": [
        "model.load_state_dict(torch.load('xyz_epoch_50.pt'))"
      ],
      "execution_count": 15,
      "outputs": [
        {
          "output_type": "execute_result",
          "data": {
            "text/plain": [
              "<All keys matched successfully>"
            ]
          },
          "metadata": {
            "tags": []
          },
          "execution_count": 15
        }
      ]
    },
    {
      "cell_type": "code",
      "metadata": {
        "id": "6utgphIF0104"
      },
      "source": [
        "model.eval()\n",
        "with torch.no_grad():\n",
        "    output = model(transimg.unsqueeze(0))"
      ],
      "execution_count": 16,
      "outputs": []
    },
    {
      "cell_type": "code",
      "metadata": {
        "colab": {
          "base_uri": "https://localhost:8080/"
        },
        "id": "IXDZzqzD04ek",
        "outputId": "33cd0ff7-b04f-4cbd-af67-5c56e0dda29b"
      },
      "source": [
        "output"
      ],
      "execution_count": 17,
      "outputs": [
        {
          "output_type": "execute_result",
          "data": {
            "text/plain": [
              "tensor([[ 259.9782,  135.8642,   14.2693,   10.1550,   91.4886,  -85.6855,\n",
              "           59.7598,   98.3625, -147.6480,  -82.6447,   21.5579,   57.9082,\n",
              "         -117.8824,   -7.7199,    0.4825,  -20.7187,   -6.2870,  171.6792,\n",
              "          167.0989, -103.3710, -125.8104, -158.6588,  -47.0478, -146.5396,\n",
              "           -9.8511,   28.3023]])"
            ]
          },
          "metadata": {
            "tags": []
          },
          "execution_count": 17
        }
      ]
    },
    {
      "cell_type": "code",
      "metadata": {
        "id": "AFCJhgkV0_22"
      },
      "source": [
        "classes = []\n",
        "for i in range(25):\n",
        "  classes.append(chr(65+i))"
      ],
      "execution_count": 18,
      "outputs": []
    },
    {
      "cell_type": "code",
      "metadata": {
        "colab": {
          "base_uri": "https://localhost:8080/",
          "height": 35
        },
        "id": "fVoPmh8t06Rj",
        "outputId": "32a07a2f-2d85-44f4-90c2-da117ee409d5"
      },
      "source": [
        "classes[torch.argmax(output).item()]"
      ],
      "execution_count": 19,
      "outputs": [
        {
          "output_type": "execute_result",
          "data": {
            "application/vnd.google.colaboratory.intrinsic+json": {
              "type": "string"
            },
            "text/plain": [
              "'A'"
            ]
          },
          "metadata": {
            "tags": []
          },
          "execution_count": 19
        }
      ]
    },
    {
      "cell_type": "code",
      "metadata": {
        "id": "qYFX_rDH08yA"
      },
      "source": [
        ""
      ],
      "execution_count": 19,
      "outputs": []
    }
  ]
}
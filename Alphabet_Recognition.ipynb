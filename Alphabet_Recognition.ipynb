{
  "nbformat": 4,
  "nbformat_minor": 2,
  "metadata": {
    "colab": {
      "name": "Alphabet_Recognition.ipynb",
      "provenance": []
    },
    "kernelspec": {
      "name": "python3",
      "display_name": "Python 3"
    },
    "language_info": {
      "name": "python"
    },
    "accelerator": "GPU",
    "widgets": {
      "application/vnd.jupyter.widget-state+json": {
        "0e3847090e2449f0be62db0e0555e198": {
          "model_module": "@jupyter-widgets/controls",
          "model_name": "HBoxModel",
          "model_module_version": "1.5.0",
          "state": {
            "_view_name": "HBoxView",
            "_dom_classes": [],
            "_model_name": "HBoxModel",
            "_view_module": "@jupyter-widgets/controls",
            "_model_module_version": "1.5.0",
            "_view_count": null,
            "_view_module_version": "1.5.0",
            "box_style": "",
            "layout": "IPY_MODEL_0ba53f6b9fac47b78b7ebc8554322aca",
            "_model_module": "@jupyter-widgets/controls",
            "children": [
              "IPY_MODEL_f918227254c941449fa9ca23cd341f55",
              "IPY_MODEL_76f224981eba4560ae61db5288600cca",
              "IPY_MODEL_15aa8d2b00914516b19122b352088b36"
            ]
          }
        },
        "0ba53f6b9fac47b78b7ebc8554322aca": {
          "model_module": "@jupyter-widgets/base",
          "model_name": "LayoutModel",
          "model_module_version": "1.2.0",
          "state": {
            "_view_name": "LayoutView",
            "grid_template_rows": null,
            "right": null,
            "justify_content": null,
            "_view_module": "@jupyter-widgets/base",
            "overflow": null,
            "_model_module_version": "1.2.0",
            "_view_count": null,
            "flex_flow": null,
            "width": null,
            "min_width": null,
            "border": null,
            "align_items": null,
            "bottom": null,
            "_model_module": "@jupyter-widgets/base",
            "top": null,
            "grid_column": null,
            "overflow_y": null,
            "overflow_x": null,
            "grid_auto_flow": null,
            "grid_area": null,
            "grid_template_columns": null,
            "flex": null,
            "_model_name": "LayoutModel",
            "justify_items": null,
            "grid_row": null,
            "max_height": null,
            "align_content": null,
            "visibility": null,
            "align_self": null,
            "height": null,
            "min_height": null,
            "padding": null,
            "grid_auto_rows": null,
            "grid_gap": null,
            "max_width": null,
            "order": null,
            "_view_module_version": "1.2.0",
            "grid_template_areas": null,
            "object_position": null,
            "object_fit": null,
            "grid_auto_columns": null,
            "margin": null,
            "display": null,
            "left": null
          }
        },
        "f918227254c941449fa9ca23cd341f55": {
          "model_module": "@jupyter-widgets/controls",
          "model_name": "HTMLModel",
          "model_module_version": "1.5.0",
          "state": {
            "_view_name": "HTMLView",
            "style": "IPY_MODEL_5ac172b0f7944d2da4f55da58cd9ad97",
            "_dom_classes": [],
            "description": "",
            "_model_name": "HTMLModel",
            "placeholder": "​",
            "_view_module": "@jupyter-widgets/controls",
            "_model_module_version": "1.5.0",
            "value": "100%",
            "_view_count": null,
            "_view_module_version": "1.5.0",
            "description_tooltip": null,
            "_model_module": "@jupyter-widgets/controls",
            "layout": "IPY_MODEL_0e3d531b11894eb884353af2be880a6a"
          }
        },
        "76f224981eba4560ae61db5288600cca": {
          "model_module": "@jupyter-widgets/controls",
          "model_name": "FloatProgressModel",
          "model_module_version": "1.5.0",
          "state": {
            "_view_name": "ProgressView",
            "style": "IPY_MODEL_30cdc766234040149d65fae08a5c9d0d",
            "_dom_classes": [],
            "description": "",
            "_model_name": "FloatProgressModel",
            "bar_style": "success",
            "max": 5538128,
            "_view_module": "@jupyter-widgets/controls",
            "_model_module_version": "1.5.0",
            "value": 5538128,
            "_view_count": null,
            "_view_module_version": "1.5.0",
            "orientation": "horizontal",
            "min": 0,
            "description_tooltip": null,
            "_model_module": "@jupyter-widgets/controls",
            "layout": "IPY_MODEL_d09a65d602a3444493c206395b7a3d69"
          }
        },
        "15aa8d2b00914516b19122b352088b36": {
          "model_module": "@jupyter-widgets/controls",
          "model_name": "HTMLModel",
          "model_module_version": "1.5.0",
          "state": {
            "_view_name": "HTMLView",
            "style": "IPY_MODEL_9d6bf10cda25451cbc999657adf56b3c",
            "_dom_classes": [],
            "description": "",
            "_model_name": "HTMLModel",
            "placeholder": "​",
            "_view_module": "@jupyter-widgets/controls",
            "_model_module_version": "1.5.0",
            "value": " 5.28M/5.28M [00:00&lt;00:00, 14.5MB/s]",
            "_view_count": null,
            "_view_module_version": "1.5.0",
            "description_tooltip": null,
            "_model_module": "@jupyter-widgets/controls",
            "layout": "IPY_MODEL_52697d3a285946cabdc88388730eb5ec"
          }
        },
        "5ac172b0f7944d2da4f55da58cd9ad97": {
          "model_module": "@jupyter-widgets/controls",
          "model_name": "DescriptionStyleModel",
          "model_module_version": "1.5.0",
          "state": {
            "_view_name": "StyleView",
            "_model_name": "DescriptionStyleModel",
            "description_width": "",
            "_view_module": "@jupyter-widgets/base",
            "_model_module_version": "1.5.0",
            "_view_count": null,
            "_view_module_version": "1.2.0",
            "_model_module": "@jupyter-widgets/controls"
          }
        },
        "0e3d531b11894eb884353af2be880a6a": {
          "model_module": "@jupyter-widgets/base",
          "model_name": "LayoutModel",
          "model_module_version": "1.2.0",
          "state": {
            "_view_name": "LayoutView",
            "grid_template_rows": null,
            "right": null,
            "justify_content": null,
            "_view_module": "@jupyter-widgets/base",
            "overflow": null,
            "_model_module_version": "1.2.0",
            "_view_count": null,
            "flex_flow": null,
            "width": null,
            "min_width": null,
            "border": null,
            "align_items": null,
            "bottom": null,
            "_model_module": "@jupyter-widgets/base",
            "top": null,
            "grid_column": null,
            "overflow_y": null,
            "overflow_x": null,
            "grid_auto_flow": null,
            "grid_area": null,
            "grid_template_columns": null,
            "flex": null,
            "_model_name": "LayoutModel",
            "justify_items": null,
            "grid_row": null,
            "max_height": null,
            "align_content": null,
            "visibility": null,
            "align_self": null,
            "height": null,
            "min_height": null,
            "padding": null,
            "grid_auto_rows": null,
            "grid_gap": null,
            "max_width": null,
            "order": null,
            "_view_module_version": "1.2.0",
            "grid_template_areas": null,
            "object_position": null,
            "object_fit": null,
            "grid_auto_columns": null,
            "margin": null,
            "display": null,
            "left": null
          }
        },
        "30cdc766234040149d65fae08a5c9d0d": {
          "model_module": "@jupyter-widgets/controls",
          "model_name": "ProgressStyleModel",
          "model_module_version": "1.5.0",
          "state": {
            "_view_name": "StyleView",
            "_model_name": "ProgressStyleModel",
            "description_width": "",
            "_view_module": "@jupyter-widgets/base",
            "_model_module_version": "1.5.0",
            "_view_count": null,
            "_view_module_version": "1.2.0",
            "bar_color": null,
            "_model_module": "@jupyter-widgets/controls"
          }
        },
        "d09a65d602a3444493c206395b7a3d69": {
          "model_module": "@jupyter-widgets/base",
          "model_name": "LayoutModel",
          "model_module_version": "1.2.0",
          "state": {
            "_view_name": "LayoutView",
            "grid_template_rows": null,
            "right": null,
            "justify_content": null,
            "_view_module": "@jupyter-widgets/base",
            "overflow": null,
            "_model_module_version": "1.2.0",
            "_view_count": null,
            "flex_flow": null,
            "width": null,
            "min_width": null,
            "border": null,
            "align_items": null,
            "bottom": null,
            "_model_module": "@jupyter-widgets/base",
            "top": null,
            "grid_column": null,
            "overflow_y": null,
            "overflow_x": null,
            "grid_auto_flow": null,
            "grid_area": null,
            "grid_template_columns": null,
            "flex": null,
            "_model_name": "LayoutModel",
            "justify_items": null,
            "grid_row": null,
            "max_height": null,
            "align_content": null,
            "visibility": null,
            "align_self": null,
            "height": null,
            "min_height": null,
            "padding": null,
            "grid_auto_rows": null,
            "grid_gap": null,
            "max_width": null,
            "order": null,
            "_view_module_version": "1.2.0",
            "grid_template_areas": null,
            "object_position": null,
            "object_fit": null,
            "grid_auto_columns": null,
            "margin": null,
            "display": null,
            "left": null
          }
        },
        "9d6bf10cda25451cbc999657adf56b3c": {
          "model_module": "@jupyter-widgets/controls",
          "model_name": "DescriptionStyleModel",
          "model_module_version": "1.5.0",
          "state": {
            "_view_name": "StyleView",
            "_model_name": "DescriptionStyleModel",
            "description_width": "",
            "_view_module": "@jupyter-widgets/base",
            "_model_module_version": "1.5.0",
            "_view_count": null,
            "_view_module_version": "1.2.0",
            "_model_module": "@jupyter-widgets/controls"
          }
        },
        "52697d3a285946cabdc88388730eb5ec": {
          "model_module": "@jupyter-widgets/base",
          "model_name": "LayoutModel",
          "model_module_version": "1.2.0",
          "state": {
            "_view_name": "LayoutView",
            "grid_template_rows": null,
            "right": null,
            "justify_content": null,
            "_view_module": "@jupyter-widgets/base",
            "overflow": null,
            "_model_module_version": "1.2.0",
            "_view_count": null,
            "flex_flow": null,
            "width": null,
            "min_width": null,
            "border": null,
            "align_items": null,
            "bottom": null,
            "_model_module": "@jupyter-widgets/base",
            "top": null,
            "grid_column": null,
            "overflow_y": null,
            "overflow_x": null,
            "grid_auto_flow": null,
            "grid_area": null,
            "grid_template_columns": null,
            "flex": null,
            "_model_name": "LayoutModel",
            "justify_items": null,
            "grid_row": null,
            "max_height": null,
            "align_content": null,
            "visibility": null,
            "align_self": null,
            "height": null,
            "min_height": null,
            "padding": null,
            "grid_auto_rows": null,
            "grid_gap": null,
            "max_width": null,
            "order": null,
            "_view_module_version": "1.2.0",
            "grid_template_areas": null,
            "object_position": null,
            "object_fit": null,
            "grid_auto_columns": null,
            "margin": null,
            "display": null,
            "left": null
          }
        }
      }
    }
  },
  "cells": [
    {
      "cell_type": "code",
      "execution_count": 2,
      "source": [
        "!gdown --id 1vkb2aGaHSkdmQk4S1CQYMvuFR28_HJ2b"
      ],
      "outputs": [],
      "metadata": {
        "id": "s5TLsNtZgXE3"
      }
    },
    {
      "cell_type": "code",
      "execution_count": null,
      "source": [
        "!unzip /content/Fonts.zip"
      ],
      "outputs": [],
      "metadata": {
        "colab": {
          "base_uri": "https://localhost:8080/"
        },
        "id": "B2X7YO0agezv",
        "outputId": "7c8f3c79-95f3-4741-fd18-e65affa85f60"
      }
    },
    {
      "cell_type": "markdown",
      "source": [
        "#Library"
      ],
      "metadata": {
        "id": "F6SB9OdIj7Nl"
      }
    },
    {
      "cell_type": "code",
      "execution_count": 4,
      "source": [
        "import torch\r\n",
        "import torchvision.transforms as transforms\r\n",
        "import torchvision\r\n",
        "import matplotlib.pyplot as plt\r\n",
        "import numpy as np\r\n",
        "import torch.nn as nn\r\n",
        "import torch.nn.functional as F\r\n",
        "import time"
      ],
      "outputs": [],
      "metadata": {
        "id": "JZCiiFN9jP5O"
      }
    },
    {
      "cell_type": "code",
      "execution_count": 5,
      "source": [
        "dataset_folder = '/content/Fonts'\r\n",
        "transform = transforms.Compose([transforms.ToTensor()])\r\n",
        "dataset = torchvision.datasets.ImageFolder(root = dataset_folder, transform = transform) "
      ],
      "outputs": [],
      "metadata": {
        "id": "u752Vr7hkbQ8"
      }
    },
    {
      "cell_type": "code",
      "execution_count": 6,
      "source": [
        "len(dataset)"
      ],
      "outputs": [
        {
          "output_type": "execute_result",
          "data": {
            "text/plain": [
              "372450"
            ]
          },
          "metadata": {
            "tags": []
          },
          "execution_count": 6
        }
      ],
      "metadata": {
        "colab": {
          "base_uri": "https://localhost:8080/"
        },
        "id": "H3YXBgWnm1oS",
        "outputId": "cd5ae471-2598-4dbe-dccd-12bd696c4112"
      }
    },
    {
      "cell_type": "code",
      "execution_count": 7,
      "source": [
        "dataset.class_to_idx"
      ],
      "outputs": [
        {
          "output_type": "execute_result",
          "data": {
            "text/plain": [
              "{'A': 0,\n",
              " 'B': 1,\n",
              " 'C': 2,\n",
              " 'D': 3,\n",
              " 'E': 4,\n",
              " 'F': 5,\n",
              " 'G': 6,\n",
              " 'H': 7,\n",
              " 'I': 8,\n",
              " 'J': 9,\n",
              " 'K': 10,\n",
              " 'L': 11,\n",
              " 'M': 12,\n",
              " 'N': 13,\n",
              " 'O': 14,\n",
              " 'P': 15,\n",
              " 'Q': 16,\n",
              " 'R': 17,\n",
              " 'S': 18,\n",
              " 'T': 19,\n",
              " 'U': 20,\n",
              " 'V': 21,\n",
              " 'W': 22,\n",
              " 'X': 23,\n",
              " 'Y': 24,\n",
              " 'Z': 25}"
            ]
          },
          "metadata": {
            "tags": []
          },
          "execution_count": 7
        }
      ],
      "metadata": {
        "colab": {
          "base_uri": "https://localhost:8080/"
        },
        "id": "WtF2ihQmm6UT",
        "outputId": "a5923dc5-835b-4916-bd85-e7ed775ad75d"
      }
    },
    {
      "cell_type": "code",
      "execution_count": 8,
      "source": [
        "classes = dataset.classes\r\n",
        "classes"
      ],
      "outputs": [
        {
          "output_type": "execute_result",
          "data": {
            "text/plain": [
              "['A',\n",
              " 'B',\n",
              " 'C',\n",
              " 'D',\n",
              " 'E',\n",
              " 'F',\n",
              " 'G',\n",
              " 'H',\n",
              " 'I',\n",
              " 'J',\n",
              " 'K',\n",
              " 'L',\n",
              " 'M',\n",
              " 'N',\n",
              " 'O',\n",
              " 'P',\n",
              " 'Q',\n",
              " 'R',\n",
              " 'S',\n",
              " 'T',\n",
              " 'U',\n",
              " 'V',\n",
              " 'W',\n",
              " 'X',\n",
              " 'Y',\n",
              " 'Z']"
            ]
          },
          "metadata": {
            "tags": []
          },
          "execution_count": 8
        }
      ],
      "metadata": {
        "colab": {
          "base_uri": "https://localhost:8080/"
        },
        "id": "gl1QsO7PnAFv",
        "outputId": "b7fe79af-096a-4b87-dbeb-df25bc182c21"
      }
    },
    {
      "cell_type": "markdown",
      "source": [
        "#Split dataset"
      ],
      "metadata": {
        "id": "AAh3P9l1o81h"
      }
    },
    {
      "cell_type": "code",
      "execution_count": 9,
      "source": [
        "split_ratio = 0.75 \r\n",
        "train_set, val_set = torch.utils.data.random_split(dataset, [int(len(dataset)*split_ratio), len(dataset)- int(len(dataset)*split_ratio)])"
      ],
      "outputs": [],
      "metadata": {
        "id": "QwZX8D-ynG1A"
      }
    },
    {
      "cell_type": "code",
      "execution_count": 10,
      "source": [
        "batch = 2048"
      ],
      "outputs": [],
      "metadata": {
        "id": "EFLikLIcpCf4"
      }
    },
    {
      "cell_type": "code",
      "execution_count": 11,
      "source": [
        "trainloader = torch.utils.data.DataLoader(train_set, batch_size = batch, shuffle=True, num_workers=2)\r\n",
        "testloader = torch.utils.data.DataLoader(val_set, batch_size = batch, shuffle=True, num_workers=2,drop_last= True)"
      ],
      "outputs": [],
      "metadata": {
        "id": "BO97jy7VpDfr"
      }
    },
    {
      "cell_type": "markdown",
      "source": [
        "#Vizuals"
      ],
      "metadata": {
        "id": "z1jcS8DnpNYI"
      }
    },
    {
      "cell_type": "code",
      "execution_count": 12,
      "source": [
        "def imshow(img):\r\n",
        "    img = img     # unnormalize\r\n",
        "    npimg = img.numpy()\r\n",
        "    plt.imshow(np.transpose(npimg, (1, 2, 0)))\r\n",
        "    plt.show()"
      ],
      "outputs": [],
      "metadata": {
        "id": "zu-ZV0zgpMmu"
      }
    },
    {
      "cell_type": "code",
      "execution_count": null,
      "source": [
        "dataiter = iter(trainloader)\r\n",
        "images, labels = dataiter.next()\r\n",
        "\r\n",
        "# show images\r\n",
        "imshow(torchvision.utils.make_grid(images))\r\n",
        "# print labels\r\n",
        "print(' '.join('%5s' % classes[labels[j]] for j in range(batch)))"
      ],
      "outputs": [],
      "metadata": {
        "colab": {
          "base_uri": "https://localhost:8080/",
          "height": 306
        },
        "id": "Tu-11jfMpY1c",
        "outputId": "6a34acc3-f8e9-48fe-f382-f8b2934a5222"
      }
    },
    {
      "cell_type": "markdown",
      "source": [
        "#model"
      ],
      "metadata": {
        "id": "sH1zlnWSp_g4"
      }
    },
    {
      "cell_type": "code",
      "execution_count": null,
      "source": [
        "model = torchvision.models.shufflenet_v2_x0_5(pretrained= True)\r\n",
        "model.fc = nn.Linear(1024 , len(classes))\r\n",
        "model"
      ],
      "outputs": [],
      "metadata": {
        "colab": {
          "base_uri": "https://localhost:8080/",
          "height": 1000,
          "referenced_widgets": [
            "0e3847090e2449f0be62db0e0555e198",
            "0ba53f6b9fac47b78b7ebc8554322aca",
            "f918227254c941449fa9ca23cd341f55",
            "76f224981eba4560ae61db5288600cca",
            "15aa8d2b00914516b19122b352088b36",
            "5ac172b0f7944d2da4f55da58cd9ad97",
            "0e3d531b11894eb884353af2be880a6a",
            "30cdc766234040149d65fae08a5c9d0d",
            "d09a65d602a3444493c206395b7a3d69",
            "9d6bf10cda25451cbc999657adf56b3c",
            "52697d3a285946cabdc88388730eb5ec"
          ]
        },
        "id": "eb2_uH_xqBdm",
        "outputId": "12f69c27-3123-4657-c572-01099d281e50"
      }
    },
    {
      "cell_type": "markdown",
      "source": [
        "#Training"
      ],
      "metadata": {
        "id": "7WiWQyw1ra1Z"
      }
    },
    {
      "cell_type": "code",
      "execution_count": 15,
      "source": [
        "device = torch.device(\"cuda:0\" if torch.cuda.is_available() else \"cpu\")\r\n",
        "device\r\n"
      ],
      "outputs": [
        {
          "output_type": "execute_result",
          "data": {
            "text/plain": [
              "device(type='cuda', index=0)"
            ]
          },
          "metadata": {
            "tags": []
          },
          "execution_count": 15
        }
      ],
      "metadata": {
        "colab": {
          "base_uri": "https://localhost:8080/"
        },
        "id": "n75nROE1qjFH",
        "outputId": "03173a7b-68bb-49f0-960d-bc67d11f9467"
      }
    },
    {
      "cell_type": "code",
      "execution_count": 16,
      "source": [
        "import torch.optim as optim\r\n",
        "criterion = nn.CrossEntropyLoss()\r\n",
        "optimizer = optim.SGD(model.parameters(), lr=0.001, momentum=0.9)"
      ],
      "outputs": [],
      "metadata": {
        "id": "0MdOatO_qjw6"
      }
    },
    {
      "cell_type": "code",
      "execution_count": 17,
      "source": [
        "step = 0\r\n",
        "loss_train = []\r\n",
        "loss_val = []\r\n",
        "\r\n",
        "#import the model\r\n",
        "\r\n",
        "model = model.to(device)\r\n",
        "model = model.train()\r\n",
        "\r\n",
        "min_loss = 100\r\n",
        "patience = 5\r\n",
        "training_loss_store = []\r\n",
        "validation_loss_store = []"
      ],
      "outputs": [],
      "metadata": {
        "id": "w4L2yQnprlCi"
      }
    },
    {
      "cell_type": "code",
      "execution_count": 18,
      "source": [
        "len(trainloader)\r\n",
        "2048 * 137"
      ],
      "outputs": [
        {
          "output_type": "execute_result",
          "data": {
            "text/plain": [
              "280576"
            ]
          },
          "metadata": {
            "tags": []
          },
          "execution_count": 18
        }
      ],
      "metadata": {
        "colab": {
          "base_uri": "https://localhost:8080/"
        },
        "id": "-31zq1wjs2g9",
        "outputId": "e39cbf94-6f9f-4b42-ee64-5c5d3da84233"
      }
    },
    {
      "cell_type": "code",
      "execution_count": 19,
      "source": [
        "file = open('logs_test4_epoch100_with_max_pool.txt', 'w')\r\n",
        "\r\n",
        "print('training started.............................................')\r\n",
        "file.write('training started.............................................\\n')\r\n",
        "start_time = time.time()\r\n",
        "for epoch in range(50):  # loop over the dataset multiple times\r\n",
        "    #file.write('##############################TRAINING###############################\\n')\r\n",
        "    running_loss = 0.0\r\n",
        "    for i, data in enumerate(trainloader, 0):\r\n",
        "        \r\n",
        "        step+=1\r\n",
        "        # get the inputs; data is a list of [inputs, labels]\r\n",
        "        inputs, labels = data[0].to(device),data[1].to(device)\r\n",
        "\r\n",
        "        # zero the parameter gradients\r\n",
        "        optimizer.zero_grad()\r\n",
        "        # forward + backward + optimize\r\n",
        "        outputs = model(inputs)\r\n",
        "        loss = criterion(outputs, labels)\r\n",
        "        loss_train.append(loss.item())\r\n",
        "        training_loss_store.append([epoch, loss.item()])\r\n",
        "        loss.backward()\r\n",
        "        optimizer.step()\r\n",
        "\r\n",
        "        # print statistics\r\n",
        "        running_loss += loss.item()\r\n",
        "        if i % 20 == 19:    # print every 10 mini-batches\r\n",
        "            print('[%d, %5d] loss: %.5f' %(epoch + 1, i + 1, running_loss / 2000))\r\n",
        "            #log_loss_summary(logger, loss_train, step, prefix = 'train_')\r\n",
        "            file.write('epoch = '+ str(epoch + 1) + '\\t' +'step = '+ str(step) +'\\t'+'train_loss = '+'\\t'+str(np.mean(loss_train)) +'\\n')\r\n",
        "            loss_train = []\r\n",
        "            running_loss = 0.0\r\n",
        "            \r\n",
        "    print('Finished training for epoch ' + str(epoch) + ' time taken = ' + str(time.time() - start_time))\r\n",
        "    file.write('Finished training for epoch ' + str(epoch) + ' time taken = ' + str(time.time() - start_time) + '\\n')\r\n",
        "    file.write('##################################evaluation##############################\\n')\r\n",
        "    print('################################evaluation###########################\\n')\r\n",
        "    with torch.no_grad():\r\n",
        "        val_loss = 0\r\n",
        "        model.eval()\r\n",
        "        \r\n",
        "        for i, data in enumerate(testloader, 0):\r\n",
        "            step+=1\r\n",
        "            inputs, labels = data[0].to(device),data[1].to(device)\r\n",
        "            outputs = model(inputs)\r\n",
        "            loss = criterion(outputs, labels)\r\n",
        "            loss_val.append(loss.item())\r\n",
        "            validation_loss_store.append([epoch, loss.item()])\r\n",
        "            val_loss += loss\r\n",
        "            \r\n",
        "        val_loss = val_loss/float(i + 1)\r\n",
        "        \r\n",
        "        if val_loss < min_loss:\r\n",
        "            min_loss = val_loss\r\n",
        "            no_impr_epoch = 0\r\n",
        "            \r\n",
        "            #save the best model\r\n",
        "            #torch.save(model.state_dict(), 'weight/' + 'epoch_' + str(epoch+1) + 'loss_' + str(val_loss) + '.pt')\r\n",
        "            print(str(val_loss))\r\n",
        "            torch.save(model.state_dict(), 'xyz_epoch_'+str(epoch+1)+'.pt')\r\n",
        "            \r\n",
        "            print('performance improved with validation loss ' + str(val_loss))\r\n",
        "            file.write('--------------------------------------------------------------------\\n')\r\n",
        "            file.write('performance improved with validation loss =  ' + str(val_loss) + '\\n')\r\n",
        "            \r\n",
        "            file.write('epoch = '+ str(epoch + 1) + '\\t' +'step = '+ str(step) +'\\t'+'val_loss = '+'\\t'+str(np.mean(loss_val)) +'\\n')\r\n",
        "            file.write('--------------------------------------------------------------------\\n\\n')\r\n",
        "            #log_loss_summary(logger, loss_val, step, prefix=\"val_\")\r\n",
        "            loss_val = []\r\n",
        "        else:\r\n",
        "            no_impr_epoch += 1\r\n",
        "            print('no improvement with prev best model ' + str(no_impr_epoch) + 'th')\r\n",
        "            file.write('no improvement with prev best model ' + str(no_impr_epoch) + 'th \\n')\r\n",
        "            \r\n",
        "        if no_impr_epoch > patience:\r\n",
        "            print('stop training')\r\n",
        "            file.write('stop training')\r\n",
        "            break\r\n",
        "    \r\n",
        "print('Finished Training................................................')\r\n",
        "file.write('Finished Training................................................\\n')\r\n",
        "end_time = time.time()\r\n",
        "file.write('Training time:- ' + str(end_time - start_time))\r\n",
        "file.close()"
      ],
      "outputs": [
        {
          "output_type": "stream",
          "name": "stdout",
          "text": [
            "training started.............................................\n"
          ]
        },
        {
          "output_type": "stream",
          "name": "stderr",
          "text": [
            "/usr/local/lib/python3.7/dist-packages/torch/nn/functional.py:718: UserWarning: Named tensors and all their associated APIs are an experimental feature and subject to change. Please do not use them for anything important until they are released as stable. (Triggered internally at  /pytorch/c10/core/TensorImpl.h:1156.)\n",
            "  return torch.max_pool2d(input, kernel_size, stride, padding, dilation, ceil_mode)\n"
          ]
        },
        {
          "output_type": "stream",
          "name": "stdout",
          "text": [
            "[1,    20] loss: 0.03263\n",
            "[1,    40] loss: 0.03253\n",
            "[1,    60] loss: 0.03240\n",
            "[1,    80] loss: 0.03227\n",
            "[1,   100] loss: 0.03215\n",
            "[1,   120] loss: 0.03202\n",
            "Finished training for epoch 0 time taken = 57.24110412597656\n",
            "################################evaluation###########################\n",
            "\n",
            "tensor(3.1821, device='cuda:0')\n",
            "performance improved with validation loss tensor(3.1821, device='cuda:0')\n",
            "[2,    20] loss: 0.03031\n",
            "[2,    40] loss: 0.02584\n",
            "[2,    60] loss: 0.02171\n",
            "[2,    80] loss: 0.01708\n",
            "[2,   100] loss: 0.01253\n",
            "[2,   120] loss: 0.00949\n",
            "Finished training for epoch 1 time taken = 137.58702087402344\n",
            "################################evaluation###########################\n",
            "\n",
            "tensor(0.7267, device='cuda:0')\n",
            "performance improved with validation loss tensor(0.7267, device='cuda:0')\n",
            "[3,    20] loss: 0.00704\n",
            "[3,    40] loss: 0.00620\n",
            "[3,    60] loss: 0.00543\n",
            "[3,    80] loss: 0.00516\n",
            "[3,   100] loss: 0.00483\n",
            "[3,   120] loss: 0.00443\n",
            "Finished training for epoch 2 time taken = 217.92687678337097\n",
            "################################evaluation###########################\n",
            "\n",
            "tensor(0.4380, device='cuda:0')\n",
            "performance improved with validation loss tensor(0.4380, device='cuda:0')\n",
            "[4,    20] loss: 0.00409\n",
            "[4,    40] loss: 0.00385\n",
            "[4,    60] loss: 0.00367\n",
            "[4,    80] loss: 0.00342\n",
            "[4,   100] loss: 0.00349\n",
            "[4,   120] loss: 0.00323\n",
            "Finished training for epoch 3 time taken = 298.3329863548279\n",
            "################################evaluation###########################\n",
            "\n",
            "tensor(0.3167, device='cuda:0')\n",
            "performance improved with validation loss tensor(0.3167, device='cuda:0')\n",
            "[5,    20] loss: 0.00315\n",
            "[5,    40] loss: 0.00302\n",
            "[5,    60] loss: 0.00292\n",
            "[5,    80] loss: 0.00287\n",
            "[5,   100] loss: 0.00287\n",
            "[5,   120] loss: 0.00277\n",
            "Finished training for epoch 4 time taken = 378.7659339904785\n",
            "################################evaluation###########################\n",
            "\n",
            "tensor(0.2626, device='cuda:0')\n",
            "performance improved with validation loss tensor(0.2626, device='cuda:0')\n",
            "[6,    20] loss: 0.00264\n",
            "[6,    40] loss: 0.00253\n",
            "[6,    60] loss: 0.00253\n",
            "[6,    80] loss: 0.00243\n",
            "[6,   100] loss: 0.00244\n",
            "[6,   120] loss: 0.00240\n",
            "Finished training for epoch 5 time taken = 458.6790111064911\n",
            "################################evaluation###########################\n",
            "\n",
            "tensor(0.2377, device='cuda:0')\n",
            "performance improved with validation loss tensor(0.2377, device='cuda:0')\n",
            "[7,    20] loss: 0.00232\n",
            "[7,    40] loss: 0.00228\n",
            "[7,    60] loss: 0.00222\n",
            "[7,    80] loss: 0.00225\n",
            "[7,   100] loss: 0.00214\n",
            "[7,   120] loss: 0.00219\n",
            "Finished training for epoch 6 time taken = 541.3047692775726\n",
            "################################evaluation###########################\n",
            "\n",
            "tensor(0.2156, device='cuda:0')\n",
            "performance improved with validation loss tensor(0.2156, device='cuda:0')\n",
            "[8,    20] loss: 0.00211\n",
            "[8,    40] loss: 0.00209\n",
            "[8,    60] loss: 0.00212\n",
            "[8,    80] loss: 0.00197\n",
            "[8,   100] loss: 0.00201\n",
            "[8,   120] loss: 0.00201\n",
            "Finished training for epoch 7 time taken = 621.6901044845581\n",
            "################################evaluation###########################\n",
            "\n",
            "tensor(0.2016, device='cuda:0')\n",
            "performance improved with validation loss tensor(0.2016, device='cuda:0')\n",
            "[9,    20] loss: 0.00195\n",
            "[9,    40] loss: 0.00198\n",
            "[9,    60] loss: 0.00192\n",
            "[9,    80] loss: 0.00191\n",
            "[9,   100] loss: 0.00196\n",
            "[9,   120] loss: 0.00189\n",
            "Finished training for epoch 8 time taken = 703.156661272049\n",
            "################################evaluation###########################\n",
            "\n",
            "tensor(0.1903, device='cuda:0')\n",
            "performance improved with validation loss tensor(0.1903, device='cuda:0')\n",
            "[10,    20] loss: 0.00180\n",
            "[10,    40] loss: 0.00183\n",
            "[10,    60] loss: 0.00187\n",
            "[10,    80] loss: 0.00181\n",
            "[10,   100] loss: 0.00173\n",
            "[10,   120] loss: 0.00176\n",
            "Finished training for epoch 9 time taken = 783.1990463733673\n",
            "################################evaluation###########################\n",
            "\n",
            "tensor(0.1848, device='cuda:0')\n",
            "performance improved with validation loss tensor(0.1848, device='cuda:0')\n",
            "[11,    20] loss: 0.00172\n",
            "[11,    40] loss: 0.00174\n",
            "[11,    60] loss: 0.00176\n",
            "[11,    80] loss: 0.00175\n",
            "[11,   100] loss: 0.00171\n",
            "[11,   120] loss: 0.00167\n",
            "Finished training for epoch 10 time taken = 865.0987646579742\n",
            "################################evaluation###########################\n",
            "\n",
            "tensor(0.1741, device='cuda:0')\n",
            "performance improved with validation loss tensor(0.1741, device='cuda:0')\n",
            "[12,    20] loss: 0.00164\n",
            "[12,    40] loss: 0.00166\n",
            "[12,    60] loss: 0.00167\n",
            "[12,    80] loss: 0.00162\n",
            "[12,   100] loss: 0.00167\n",
            "[12,   120] loss: 0.00160\n",
            "Finished training for epoch 11 time taken = 947.4311385154724\n",
            "################################evaluation###########################\n",
            "\n",
            "tensor(0.1693, device='cuda:0')\n",
            "performance improved with validation loss tensor(0.1693, device='cuda:0')\n",
            "[13,    20] loss: 0.00154\n",
            "[13,    40] loss: 0.00160\n",
            "[13,    60] loss: 0.00153\n",
            "[13,    80] loss: 0.00156\n",
            "[13,   100] loss: 0.00157\n",
            "[13,   120] loss: 0.00168\n",
            "Finished training for epoch 12 time taken = 1028.3399760723114\n",
            "################################evaluation###########################\n",
            "\n",
            "no improvement with prev best model 1th\n",
            "[14,    20] loss: 0.00155\n",
            "[14,    40] loss: 0.00149\n",
            "[14,    60] loss: 0.00158\n",
            "[14,    80] loss: 0.00152\n",
            "[14,   100] loss: 0.00151\n",
            "[14,   120] loss: 0.00146\n",
            "Finished training for epoch 13 time taken = 1110.1187694072723\n",
            "################################evaluation###########################\n",
            "\n",
            "tensor(0.1676, device='cuda:0')\n",
            "performance improved with validation loss tensor(0.1676, device='cuda:0')\n",
            "[15,    20] loss: 0.00146\n",
            "[15,    40] loss: 0.00149\n",
            "[15,    60] loss: 0.00149\n",
            "[15,    80] loss: 0.00149\n",
            "[15,   100] loss: 0.00144\n",
            "[15,   120] loss: 0.00142\n",
            "Finished training for epoch 14 time taken = 1189.6101276874542\n",
            "################################evaluation###########################\n",
            "\n",
            "tensor(0.1542, device='cuda:0')\n",
            "performance improved with validation loss tensor(0.1542, device='cuda:0')\n",
            "[16,    20] loss: 0.00148\n",
            "[16,    40] loss: 0.00142\n",
            "[16,    60] loss: 0.00142\n",
            "[16,    80] loss: 0.00142\n",
            "[16,   100] loss: 0.00143\n",
            "[16,   120] loss: 0.00143\n",
            "Finished training for epoch 15 time taken = 1269.7998712062836\n",
            "################################evaluation###########################\n",
            "\n",
            "tensor(0.1512, device='cuda:0')\n",
            "performance improved with validation loss tensor(0.1512, device='cuda:0')\n",
            "[17,    20] loss: 0.00141\n",
            "[17,    40] loss: 0.00136\n",
            "[17,    60] loss: 0.00143\n",
            "[17,    80] loss: 0.00138\n",
            "[17,   100] loss: 0.00136\n",
            "[17,   120] loss: 0.00138\n",
            "Finished training for epoch 16 time taken = 1349.8893344402313\n",
            "################################evaluation###########################\n",
            "\n",
            "tensor(0.1490, device='cuda:0')\n",
            "performance improved with validation loss tensor(0.1490, device='cuda:0')\n",
            "[18,    20] loss: 0.00141\n",
            "[18,    40] loss: 0.00142\n",
            "[18,    60] loss: 0.00132\n",
            "[18,    80] loss: 0.00138\n",
            "[18,   100] loss: 0.00131\n",
            "[18,   120] loss: 0.00130\n",
            "Finished training for epoch 17 time taken = 1428.8867118358612\n",
            "################################evaluation###########################\n",
            "\n",
            "tensor(0.1420, device='cuda:0')\n",
            "performance improved with validation loss tensor(0.1420, device='cuda:0')\n",
            "[19,    20] loss: 0.00139\n",
            "[19,    40] loss: 0.00134\n",
            "[19,    60] loss: 0.00129\n",
            "[19,    80] loss: 0.00127\n",
            "[19,   100] loss: 0.00129\n",
            "[19,   120] loss: 0.00130\n",
            "Finished training for epoch 18 time taken = 1508.884173154831\n",
            "################################evaluation###########################\n",
            "\n",
            "no improvement with prev best model 1th\n",
            "[20,    20] loss: 0.00128\n",
            "[20,    40] loss: 0.00128\n",
            "[20,    60] loss: 0.00129\n",
            "[20,    80] loss: 0.00133\n",
            "[20,   100] loss: 0.00124\n",
            "[20,   120] loss: 0.00126\n",
            "Finished training for epoch 19 time taken = 1588.7670950889587\n",
            "################################evaluation###########################\n",
            "\n",
            "tensor(0.1383, device='cuda:0')\n",
            "performance improved with validation loss tensor(0.1383, device='cuda:0')\n",
            "[21,    20] loss: 0.00127\n",
            "[21,    40] loss: 0.00129\n",
            "[21,    60] loss: 0.00125\n",
            "[21,    80] loss: 0.00122\n",
            "[21,   100] loss: 0.00126\n",
            "[21,   120] loss: 0.00124\n",
            "Finished training for epoch 20 time taken = 1668.1734104156494\n",
            "################################evaluation###########################\n",
            "\n",
            "no improvement with prev best model 1th\n",
            "[22,    20] loss: 0.00123\n",
            "[22,    40] loss: 0.00127\n",
            "[22,    60] loss: 0.00124\n",
            "[22,    80] loss: 0.00129\n",
            "[22,   100] loss: 0.00121\n",
            "[22,   120] loss: 0.00121\n",
            "Finished training for epoch 21 time taken = 1747.3708045482635\n",
            "################################evaluation###########################\n",
            "\n",
            "tensor(0.1336, device='cuda:0')\n",
            "performance improved with validation loss tensor(0.1336, device='cuda:0')\n",
            "[23,    20] loss: 0.00123\n",
            "[23,    40] loss: 0.00123\n",
            "[23,    60] loss: 0.00119\n",
            "[23,    80] loss: 0.00125\n",
            "[23,   100] loss: 0.00117\n",
            "[23,   120] loss: 0.00121\n",
            "Finished training for epoch 22 time taken = 1826.2701938152313\n",
            "################################evaluation###########################\n",
            "\n",
            "tensor(0.1312, device='cuda:0')\n",
            "performance improved with validation loss tensor(0.1312, device='cuda:0')\n",
            "[24,    20] loss: 0.00117\n",
            "[24,    40] loss: 0.00122\n",
            "[24,    60] loss: 0.00119\n",
            "[24,    80] loss: 0.00117\n",
            "[24,   100] loss: 0.00118\n",
            "[24,   120] loss: 0.00119\n",
            "Finished training for epoch 23 time taken = 1905.1517033576965\n",
            "################################evaluation###########################\n",
            "\n",
            "no improvement with prev best model 1th\n",
            "[25,    20] loss: 0.00119\n",
            "[25,    40] loss: 0.00118\n",
            "[25,    60] loss: 0.00118\n",
            "[25,    80] loss: 0.00109\n",
            "[25,   100] loss: 0.00113\n",
            "[25,   120] loss: 0.00116\n",
            "Finished training for epoch 24 time taken = 1984.2553386688232\n",
            "################################evaluation###########################\n",
            "\n",
            "no improvement with prev best model 2th\n",
            "[26,    20] loss: 0.00115\n",
            "[26,    40] loss: 0.00119\n",
            "[26,    60] loss: 0.00113\n",
            "[26,    80] loss: 0.00112\n",
            "[26,   100] loss: 0.00115\n",
            "[26,   120] loss: 0.00114\n",
            "Finished training for epoch 25 time taken = 2064.0031378269196\n",
            "################################evaluation###########################\n",
            "\n",
            "tensor(0.1208, device='cuda:0')\n",
            "performance improved with validation loss tensor(0.1208, device='cuda:0')\n",
            "[27,    20] loss: 0.00111\n",
            "[27,    40] loss: 0.00119\n",
            "[27,    60] loss: 0.00110\n",
            "[27,    80] loss: 0.00108\n",
            "[27,   100] loss: 0.00114\n",
            "[27,   120] loss: 0.00112\n",
            "Finished training for epoch 26 time taken = 2142.9218978881836\n",
            "################################evaluation###########################\n",
            "\n",
            "no improvement with prev best model 1th\n",
            "[28,    20] loss: 0.00116\n",
            "[28,    40] loss: 0.00107\n",
            "[28,    60] loss: 0.00116\n",
            "[28,    80] loss: 0.00107\n",
            "[28,   100] loss: 0.00111\n",
            "[28,   120] loss: 0.00109\n",
            "Finished training for epoch 27 time taken = 2223.8160650730133\n",
            "################################evaluation###########################\n",
            "\n",
            "no improvement with prev best model 2th\n",
            "[29,    20] loss: 0.00112\n",
            "[29,    40] loss: 0.00110\n",
            "[29,    60] loss: 0.00109\n",
            "[29,    80] loss: 0.00110\n",
            "[29,   100] loss: 0.00110\n",
            "[29,   120] loss: 0.00103\n",
            "Finished training for epoch 28 time taken = 2304.393051147461\n",
            "################################evaluation###########################\n",
            "\n",
            "no improvement with prev best model 3th\n",
            "[30,    20] loss: 0.00104\n",
            "[30,    40] loss: 0.00109\n",
            "[30,    60] loss: 0.00103\n",
            "[30,    80] loss: 0.00105\n",
            "[30,   100] loss: 0.00111\n",
            "[30,   120] loss: 0.00111\n",
            "Finished training for epoch 29 time taken = 2384.820204257965\n",
            "################################evaluation###########################\n",
            "\n",
            "no improvement with prev best model 4th\n",
            "[31,    20] loss: 0.00103\n",
            "[31,    40] loss: 0.00106\n",
            "[31,    60] loss: 0.00102\n",
            "[31,    80] loss: 0.00103\n",
            "[31,   100] loss: 0.00103\n",
            "[31,   120] loss: 0.00101\n",
            "Finished training for epoch 30 time taken = 2464.353173017502\n",
            "################################evaluation###########################\n",
            "\n",
            "tensor(0.1166, device='cuda:0')\n",
            "performance improved with validation loss tensor(0.1166, device='cuda:0')\n",
            "[32,    20] loss: 0.00104\n",
            "[32,    40] loss: 0.00106\n",
            "[32,    60] loss: 0.00109\n",
            "[32,    80] loss: 0.00101\n",
            "[32,   100] loss: 0.00102\n",
            "[32,   120] loss: 0.00096\n",
            "Finished training for epoch 31 time taken = 2543.420229911804\n",
            "################################evaluation###########################\n",
            "\n",
            "no improvement with prev best model 1th\n",
            "[33,    20] loss: 0.00103\n",
            "[33,    40] loss: 0.00106\n",
            "[33,    60] loss: 0.00104\n",
            "[33,    80] loss: 0.00101\n",
            "[33,   100] loss: 0.00106\n",
            "[33,   120] loss: 0.00100\n",
            "Finished training for epoch 32 time taken = 2623.4371161460876\n",
            "################################evaluation###########################\n",
            "\n",
            "tensor(0.1123, device='cuda:0')\n",
            "performance improved with validation loss tensor(0.1123, device='cuda:0')\n",
            "[34,    20] loss: 0.00103\n",
            "[34,    40] loss: 0.00099\n",
            "[34,    60] loss: 0.00100\n",
            "[34,    80] loss: 0.00106\n",
            "[34,   100] loss: 0.00099\n",
            "[34,   120] loss: 0.00102\n",
            "Finished training for epoch 33 time taken = 2702.4307055473328\n",
            "################################evaluation###########################\n",
            "\n",
            "no improvement with prev best model 1th\n",
            "[35,    20] loss: 0.00100\n",
            "[35,    40] loss: 0.00103\n",
            "[35,    60] loss: 0.00096\n",
            "[35,    80] loss: 0.00095\n",
            "[35,   100] loss: 0.00097\n",
            "[35,   120] loss: 0.00102\n",
            "Finished training for epoch 34 time taken = 2782.1261761188507\n",
            "################################evaluation###########################\n",
            "\n",
            "no improvement with prev best model 2th\n",
            "[36,    20] loss: 0.00095\n",
            "[36,    40] loss: 0.00096\n",
            "[36,    60] loss: 0.00100\n",
            "[36,    80] loss: 0.00097\n",
            "[36,   100] loss: 0.00099\n",
            "[36,   120] loss: 0.00096\n",
            "Finished training for epoch 35 time taken = 2861.0211832523346\n",
            "################################evaluation###########################\n",
            "\n",
            "tensor(0.1075, device='cuda:0')\n",
            "performance improved with validation loss tensor(0.1075, device='cuda:0')\n",
            "[37,    20] loss: 0.00096\n",
            "[37,    40] loss: 0.00099\n",
            "[37,    60] loss: 0.00098\n",
            "[37,    80] loss: 0.00097\n",
            "[37,   100] loss: 0.00095\n",
            "[37,   120] loss: 0.00094\n",
            "Finished training for epoch 36 time taken = 2941.1493644714355\n",
            "################################evaluation###########################\n",
            "\n",
            "no improvement with prev best model 1th\n",
            "[38,    20] loss: 0.00100\n",
            "[38,    40] loss: 0.00093\n",
            "[38,    60] loss: 0.00091\n",
            "[38,    80] loss: 0.00094\n",
            "[38,   100] loss: 0.00099\n",
            "[38,   120] loss: 0.00093\n",
            "Finished training for epoch 37 time taken = 3020.4694633483887\n",
            "################################evaluation###########################\n",
            "\n",
            "no improvement with prev best model 2th\n",
            "[39,    20] loss: 0.00094\n",
            "[39,    40] loss: 0.00095\n",
            "[39,    60] loss: 0.00091\n",
            "[39,    80] loss: 0.00095\n",
            "[39,   100] loss: 0.00093\n",
            "[39,   120] loss: 0.00098\n",
            "Finished training for epoch 38 time taken = 3099.406416416168\n",
            "################################evaluation###########################\n",
            "\n",
            "no improvement with prev best model 3th\n",
            "[40,    20] loss: 0.00098\n",
            "[40,    40] loss: 0.00092\n",
            "[40,    60] loss: 0.00090\n",
            "[40,    80] loss: 0.00090\n",
            "[40,   100] loss: 0.00096\n",
            "[40,   120] loss: 0.00092\n",
            "Finished training for epoch 39 time taken = 3179.8383197784424\n",
            "################################evaluation###########################\n",
            "\n",
            "tensor(0.1066, device='cuda:0')\n",
            "performance improved with validation loss tensor(0.1066, device='cuda:0')\n",
            "[41,    20] loss: 0.00089\n",
            "[41,    40] loss: 0.00093\n",
            "[41,    60] loss: 0.00088\n",
            "[41,    80] loss: 0.00093\n",
            "[41,   100] loss: 0.00091\n",
            "[41,   120] loss: 0.00089\n",
            "Finished training for epoch 40 time taken = 3258.493818283081\n",
            "################################evaluation###########################\n",
            "\n",
            "tensor(0.1038, device='cuda:0')\n",
            "performance improved with validation loss tensor(0.1038, device='cuda:0')\n",
            "[42,    20] loss: 0.00093\n",
            "[42,    40] loss: 0.00086\n",
            "[42,    60] loss: 0.00089\n",
            "[42,    80] loss: 0.00086\n",
            "[42,   100] loss: 0.00091\n",
            "[42,   120] loss: 0.00092\n",
            "Finished training for epoch 41 time taken = 3339.4825010299683\n",
            "################################evaluation###########################\n",
            "\n",
            "tensor(0.1027, device='cuda:0')\n",
            "performance improved with validation loss tensor(0.1027, device='cuda:0')\n",
            "[43,    20] loss: 0.00088\n",
            "[43,    40] loss: 0.00086\n",
            "[43,    60] loss: 0.00083\n",
            "[43,    80] loss: 0.00091\n",
            "[43,   100] loss: 0.00093\n",
            "[43,   120] loss: 0.00091\n",
            "Finished training for epoch 42 time taken = 3418.521464109421\n",
            "################################evaluation###########################\n",
            "\n",
            "no improvement with prev best model 1th\n",
            "[44,    20] loss: 0.00092\n",
            "[44,    40] loss: 0.00087\n",
            "[44,    60] loss: 0.00084\n",
            "[44,    80] loss: 0.00085\n",
            "[44,   100] loss: 0.00085\n",
            "[44,   120] loss: 0.00088\n",
            "Finished training for epoch 43 time taken = 3498.1266345977783\n",
            "################################evaluation###########################\n",
            "\n",
            "no improvement with prev best model 2th\n",
            "[45,    20] loss: 0.00088\n",
            "[45,    40] loss: 0.00084\n",
            "[45,    60] loss: 0.00083\n",
            "[45,    80] loss: 0.00085\n",
            "[45,   100] loss: 0.00087\n",
            "[45,   120] loss: 0.00094\n",
            "Finished training for epoch 44 time taken = 3577.3696682453156\n",
            "################################evaluation###########################\n",
            "\n",
            "no improvement with prev best model 3th\n",
            "[46,    20] loss: 0.00087\n",
            "[46,    40] loss: 0.00083\n",
            "[46,    60] loss: 0.00087\n",
            "[46,    80] loss: 0.00085\n",
            "[46,   100] loss: 0.00085\n",
            "[46,   120] loss: 0.00086\n",
            "Finished training for epoch 45 time taken = 3656.404023170471\n",
            "################################evaluation###########################\n",
            "\n",
            "tensor(0.1010, device='cuda:0')\n",
            "performance improved with validation loss tensor(0.1010, device='cuda:0')\n",
            "[47,    20] loss: 0.00087\n",
            "[47,    40] loss: 0.00083\n",
            "[47,    60] loss: 0.00082\n",
            "[47,    80] loss: 0.00088\n",
            "[47,   100] loss: 0.00086\n",
            "[47,   120] loss: 0.00081\n",
            "Finished training for epoch 46 time taken = 3737.08198595047\n",
            "################################evaluation###########################\n",
            "\n",
            "tensor(0.0993, device='cuda:0')\n",
            "performance improved with validation loss tensor(0.0993, device='cuda:0')\n",
            "[48,    20] loss: 0.00083\n",
            "[48,    40] loss: 0.00083\n",
            "[48,    60] loss: 0.00086\n",
            "[48,    80] loss: 0.00085\n",
            "[48,   100] loss: 0.00083\n",
            "[48,   120] loss: 0.00083\n",
            "Finished training for epoch 47 time taken = 3816.3261704444885\n",
            "################################evaluation###########################\n",
            "\n",
            "no improvement with prev best model 1th\n",
            "[49,    20] loss: 0.00084\n",
            "[49,    40] loss: 0.00082\n",
            "[49,    60] loss: 0.00084\n",
            "[49,    80] loss: 0.00087\n",
            "[49,   100] loss: 0.00083\n",
            "[49,   120] loss: 0.00080\n",
            "Finished training for epoch 48 time taken = 3895.49125957489\n",
            "################################evaluation###########################\n",
            "\n",
            "no improvement with prev best model 2th\n",
            "[50,    20] loss: 0.00084\n",
            "[50,    40] loss: 0.00081\n",
            "[50,    60] loss: 0.00086\n",
            "[50,    80] loss: 0.00079\n",
            "[50,   100] loss: 0.00080\n",
            "[50,   120] loss: 0.00086\n",
            "Finished training for epoch 49 time taken = 3975.0570573806763\n",
            "################################evaluation###########################\n",
            "\n",
            "tensor(0.0976, device='cuda:0')\n",
            "performance improved with validation loss tensor(0.0976, device='cuda:0')\n",
            "Finished Training................................................\n"
          ]
        }
      ],
      "metadata": {
        "colab": {
          "base_uri": "https://localhost:8080/"
        },
        "id": "9RxNGkE-r3B1",
        "outputId": "7c4831ac-a450-43cd-e949-3d457b29077a"
      }
    },
    {
      "cell_type": "code",
      "execution_count": null,
      "source": [
        "PATH = 'xyz_epoch_50.pt'\r\n",
        "model.load_state_dict(torch.load(PATH))\r\n",
        "model.eval()"
      ],
      "outputs": [],
      "metadata": {
        "id": "7TGPFlZYr9MF"
      }
    },
    {
      "cell_type": "markdown",
      "source": [
        "#Testing"
      ],
      "metadata": {
        "id": "j3MdWqfAt8ZH"
      }
    },
    {
      "cell_type": "code",
      "execution_count": 30,
      "source": [
        "dataiter = iter(testloader)\r\n",
        "images, labels = dataiter.next()"
      ],
      "outputs": [],
      "metadata": {
        "id": "bRJi295bt79Q"
      }
    },
    {
      "cell_type": "code",
      "execution_count": 31,
      "source": [
        "print('Ground Truth: ', ' '.join('%5s' % classes[labels[j]] for j in range(batch)))"
      ],
      "outputs": [
        {
          "output_type": "stream",
          "name": "stdout",
          "text": [
            "Ground Truth:      S     W     S     L     N     B     Q     L     U     U     M     K     S     C     O     T     S     T     W     S     N     T     N     L     N     P     E     S     S     B     O     O     S     S     O     D     S     S     P     Q     A     Z     S     L     G     N     C     L     C     C     N     U     N     R     U     S     G     D     S     O     S     S     U     W     L     E     A     R     S     A     C     T     A     A     D     U     A     Y     S     C     B     S     M     O     P     D     G     P     U     S     H     H     C     C     O     B     O     T     C     H     S     S     M     N     M     B     N     S     W     Y     A     N     K     C     S     K     O     S     S     P     Q     P     N     T     B     T     E     V     N     A     A     Z     S     M     O     C     S     S     O     S     W     P     S     J     R     U     M     O     U     E     V     X     C     B     O     G     W     B     E     O     P     M     S     S     M     K     O     U     T     O     C     Z     S     U     P     B     O     W     U     G     W     S     N     V     Z     C     S     S     J     R     P     W     U     S     N     O     C     D     R     O     E     M     A     A     C     O     U     C     O     O     X     O     O     Y     S     C     S     C     S     H     S     E     S     N     R     E     O     S     C     R     D     P     E     E     B     S     C     X     B     T     S     S     U     O     X     C     N     C     S     A     B     N     E     T     O     S     Q     O     O     H     O     O     L     K     L     J     T     H     Y     L     D     O     S     X     U     R     P     C     C     U     C     S     O     O     T     H     O     S     O     E     P     J     M     Z     A     O     S     N     U     M     T     P     S     U     P     O     U     W     C     O     N     Y     O     S     G     O     L     X     W     O     Y     C     S     U     T     H     G     O     A     N     W     P     L     S     P     W     C     M     A     H     O     O     O     M     A     N     S     X     H     P     E     R     T     U     P     C     C     T     S     O     O     A     C     D     R     S     P     U     R     W     H     E     T     G     U     D     O     W     P     Q     E     S     S     O     O     T     U     Y     Y     N     M     R     A     A     M     X     O     Z     S     O     S     S     Y     S     O     W     C     A     S     G     E     N     S     L     D     U     U     U     S     M     O     W     S     D     C     H     T     P     R     A     C     A     P     O     C     Y     O     O     O     K     J     U     O     H     T     S     B     Z     O     B     Y     T     B     C     W     K     S     N     J     S     O     O     V     G     K     N     S     U     O     P     N     W     S     K     S     J     O     S     O     Y     I     O     T     B     V     Z     U     J     S     S     U     S     U     D     M     W     S     U     C     B     O     O     N     A     K     W     G     G     J     S     S     Q     S     O     Z     O     O     J     S     T     U     L     O     C     P     C     S     S     S     E     S     O     O     D     C     O     O     C     T     G     A     R     P     C     T     H     T     T     Z     U     T     S     O     O     S     O     S     P     E     W     T     A     Y     O     S     W     D     O     C     T     Z     O     O     K     K     N     S     O     P     K     S     O     L     A     L     O     Y     S     M     U     A     C     O     N     Z     W     M     P     W     O     C     R     Y     M     U     M     S     W     M     S     W     E     M     C     C     K     Z     M     T     O     O     A     T     U     S     P     U     C     T     T     U     U     U     I     H     F     O     S     K     C     O     I     E     C     O     S     O     T     O     S     B     C     E     S     Y     L     O     X     C     C     J     C     C     K     W     R     E     S     D     E     N     W     U     O     P     B     N     S     N     R     J     S     T     S     L     O     W     X     U     O     Y     O     Z     O     C     S     A     O     S     O     N     H     O     O     Z     C     A     S     M     G     L     S     U     U     X     M     V     U     A     Z     A     P     T     U     M     G     K     P     S     O     O     Z     B     O     T     N     H     P     S     A     O     M     O     L     T     P     T     R     C     S     O     L     H     U     O     H     Z     J     O     Z     X     S     O     J     O     C     P     S     S     B     O     O     O     I     O     O     P     S     M     N     W     O     R     J     O     T     E     C     S     Z     O     U     Q     H     B     O     O     X     U     U     B     B     P     O     X     B     J     Q     V     V     P     L     E     O     E     M     W     A     S     W     B     X     O     R     P     C     D     O     G     J     S     Z     N     U     J     I     O     O     G     N     J     M     N     L     E     Y     Q     T     O     P     D     O     J     N     O     C     L     N     X     K     B     Y     S     M     U     Q     W     O     O     C     Y     O     Z     A     A     M     E     S     N     G     W     S     C     X     C     S     X     M     Q     O     E     S     O     N     P     D     B     C     O     H     T     O     S     S     O     X     U     G     P     Z     S     T     P     E     J     H     R     O     O     O     B     H     N     Q     O     C     L     U     O     N     P     J     S     O     O     R     C     Y     L     A     A     O     U     U     U     E     O     M     T     Q     N     T     P     W     U     Z     X     D     J     P     N     O     O     C     N     D     X     A     O     B     S     H     S     W     P     D     O     O     N     X     G     D     R     N     Y     A     S     V     N     T     Y     U     P     S     U     U     D     E     O     N     X     Z     W     S     W     J     O     P     O     L     N     E     P     P     U     C     S     D     Y     E     N     O     X     C     X     N     T     O     U     A     B     S     Q     O     G     S     O     D     U     T     S     S     A     S     V     A     U     L     S     S     T     T     E     P     O     A     S     T     L     Q     M     O     O     O     S     S     S     S     J     E     T     R     V     P     S     O     W     L     S     O     Z     P     S     S     U     O     P     Q     C     M     D     M     V     O     U     O     S     U     Y     N     K     O     O     A     D     P     O     T     F     S     C     E     A     L     Z     O     S     J     S     S     S     S     R     M     S     S     Y     P     W     T     P     S     N     Y     T     A     M     L     L     C     L     Y     P     N     C     O     O     Y     Y     W     H     E     C     E     M     O     L     T     S     W     F     M     S     O     M     O     N     P     Q     O     X     G     O     S     A     U     A     N     S     L     E     U     U     F     Q     T     O     O     K     O     P     S     U     K     N     J     E     N     K     S     S     K     L     O     S     M     O     O     O     T     O     U     E     N     N     O     B     T     O     O     P     O     W     G     W     Y     Y     E     X     U     Y     L     O     S     N     M     E     Q     O     Y     O     T     W     C     O     N     S     D     K     O     U     A     M     O     C     U     S     R     M     T     K     D     A     T     W     B     B     C     O     T     T     D     N     O     Y     O     Z     Y     O     O     E     E     M     O     L     S     O     A     O     H     O     G     B     Y     J     A     O     B     C     S     M     C     T     S     J     W     U     J     W     Y     G     U     V     W     N     S     S     U     T     V     O     J     E     V     O     Y     C     R     O     O     C     J     O     R     J     T     Z     T     T     S     P     U     O     T     B     U     U     D     E     G     C     P     N     U     O     P     U     Q     J     H     S     N     S     A     T     J     K     U     O     K     E     S     Z     S     H     C     P     U     S     S     C     O     A     O     N     K     E     T     A     S     B     P     S     S     O     A     R     U     T     O     P     V     S     M     S     N     O     O     S     P     M     U     S     O     R     A     S     X     Q     S     S     T     I     P     O     O     J     K     R     L     S     X     D     P     M     O     P     P     N     C     N     N     N     R     O     K     P     U     N     S     T     T     O     N     G     C     X     M     G     D     B     L     N     T     S     R     L     O     O     E     O     O     S     U     O     G     L     L     Q     S     N     B     R     D     J     S     S     R     P     Y     E     Y     U     S     J     G     O     U     L     S     C     M     T     C     S     Z     X     W     K     W     T     O     U     U     L     N     Y     D     W     U     O     H     S     Y     T     T     T     N     A     B     S     J     M     W     S     M     Y     S     O     S     A     J     D     H     Z     Q     C     M     O     O     R     N     U     U     K     U     J     A     O     P     U     O     M     T     S     S     H     S     S     C     O     N     H     O     G     S     O     S     N     S     P     X     P     U     S     U     L     Q     A     M     S     Y     V     P     S     N     C     O     T     O     A     M     O     S     S     P     S     W     W     Z     N     T     Z     T     X     X     W     P     J     L     O     P     E     O     L     U     B     S     U     C     R     M     E     H     S     N     M     M     Q     H     R     D     W     O     X     O     U     H     M     Z     U     C     O     O     T     D     Q     N     O     B     L     O     B     O     R     U     P     T     T     I     S     P     D     U     K     U     O     O     O     P     T     N     T     E     T     P     O     U     L     S     E     I     R     D     Y     P     N     U     G     U     E     V     O     A     U     Z     O     S     W     L     O     S     Z     W     X     O     G     N     S     D     A     S     C     O     U     C     S     P     U     Y     A     R     C     S     E     P     Y     U     Y     S     O     S     J     O     M     U     U     T     K     O     O     J     S     Q     A     G     R     K     E     N     P     U     U     M     M     A     P     L     R     P     H     G     A     R     N     P     X     P     Y     N     U     S     C     H     U     T     S     P     M     O     S     E     O     K     Q     S     S     R     O     O     N     O     E     L     O     O     J     U     P     M     E     S     S     Z     O     M     G     N     L     Y     T     S     J     J     N     B     P     L     P     H     U     P     P     O     S     S     U     N     S     T     S     B     S     C     O     S     Z     S     O     S     E     O     U     H     U     J     J     B     S     T     T     J     O     R     B     S     S     V     C     P     O     C     P     T     N     S     S     Y     S     O     X     D     A     J     L     M     R     S     S     K     S     H     O     S     B     J     S     O     U     U     Y     T     N     S     H     O     T     W     T     R     Q     A     P     Z     S     U     T     C     S     U     A     T     A     S     A     T     J     E     S     M     Q     U     U     O     T     A     O     C     S     O     B     R     K     E     G     P     O     O     S     U     P     B     S     U     O     Y     Y     U     O     N     U     P     O     E     W     X     A     O     O     E     L     C     K     C     S     D     O     T     Y     S     U     U     Z     P     T     C     O     Y     S     O     S     E     E     Z     T     N     A     N     T     T     R     S     U     T     Z     T     B     P     C     A     Q     N     O     J     Q     O     Q     S     P     E     S     T     L     A     S     S     S     V     U     E     E     Z     B     G     Q     E     S     P     Y     A     S     S     S     L     O     O     P     S\n"
          ]
        }
      ],
      "metadata": {
        "colab": {
          "base_uri": "https://localhost:8080/"
        },
        "id": "qyakx992uN8I",
        "outputId": "3a064cac-4394-444e-b876-fbdf101b13ea"
      }
    },
    {
      "cell_type": "code",
      "execution_count": 32,
      "source": [
        "outputs = model(images.to(device))\r\n",
        "_, predicted = torch.max(outputs, 1)\r\n",
        "\r\n",
        "print('Predicted: ', ' '.join('%5s' % classes[predicted[j]]\r\n",
        "                              for j in range(batch)))"
      ],
      "outputs": [
        {
          "output_type": "stream",
          "name": "stdout",
          "text": [
            "Predicted:      S     W     S     L     N     B     Q     L     U     U     M     K     S     C     O     T     S     T     W     S     N     T     N     L     N     P     E     S     S     B     O     O     S     S     O     D     S     S     P     Q     N     Z     S     L     G     N     C     L     C     C     N     U     N     R     U     S     G     B     S     O     S     S     U     W     L     E     A     R     S     A     C     T     A     A     D     U     A     Y     S     C     B     S     M     O     P     D     G     P     U     S     H     H     C     C     O     B     O     T     C     H     S     J     M     N     M     B     N     S     W     Y     A     N     K     C     S     K     O     S     S     P     Q     P     N     T     B     T     E     V     N     M     A     Z     S     M     O     C     S     S     O     S     W     P     S     J     R     U     M     O     U     E     V     X     C     B     O     G     W     B     E     O     P     M     S     S     M     K     O     U     T     O     C     Z     S     X     P     B     O     W     U     G     W     S     N     V     Z     C     S     S     J     R     P     W     U     S     N     O     C     D     R     O     E     M     A     A     C     O     U     C     O     O     X     O     O     Y     S     C     S     C     S     N     S     E     S     N     R     E     O     S     C     R     B     P     E     E     B     S     C     X     B     T     S     S     U     O     X     C     N     C     S     A     B     N     E     T     O     S     Q     O     O     H     O     O     L     K     L     J     T     H     Y     L     D     O     S     X     U     R     P     C     C     U     C     S     O     O     T     H     O     S     O     E     P     S     M     Z     A     O     C     N     U     M     T     P     S     U     P     O     U     W     C     O     N     Y     O     S     G     O     L     X     W     O     Y     C     S     U     T     H     G     O     A     N     W     P     L     S     P     W     C     M     A     H     O     O     O     M     A     N     S     X     H     P     E     R     T     U     P     C     C     T     S     O     O     A     C     D     R     S     P     O     R     N     H     E     T     G     U     D     O     W     P     Q     E     S     S     O     O     T     U     Y     Y     N     M     R     A     A     M     X     O     Z     S     O     S     N     Y     S     O     W     C     A     S     G     B     N     S     L     D     U     U     U     S     M     O     W     S     D     C     H     T     P     R     A     C     A     P     O     C     Y     O     O     O     K     J     U     O     H     T     S     B     Z     O     B     Y     T     B     C     W     K     S     N     J     S     O     O     V     G     K     N     S     U     O     P     N     W     S     K     S     J     O     S     O     Y     I     O     T     O     V     Z     U     J     S     S     U     S     U     D     M     W     S     U     C     B     O     O     N     A     K     W     G     G     J     S     S     Q     S     O     Z     O     O     J     S     T     U     L     O     C     P     C     S     S     S     E     S     O     O     D     C     O     O     C     T     G     A     R     P     C     T     H     T     T     Z     U     T     S     O     O     S     O     S     P     E     W     T     A     Y     O     S     W     D     O     C     T     Z     O     O     K     K     N     S     O     P     K     S     O     L     A     L     O     Y     S     M     U     A     C     O     N     Z     W     M     P     W     O     C     R     Y     M     U     M     S     W     M     S     H     E     M     C     C     K     Z     M     T     O     O     A     T     U     S     P     U     C     T     T     U     U     U     I     H     F     O     S     K     C     O     I     E     C     O     S     O     T     O     S     B     C     E     S     Y     L     O     X     C     C     J     C     C     K     W     R     E     S     D     E     N     W     U     O     P     B     N     S     N     R     J     S     T     S     L     O     W     X     U     O     Y     O     Z     O     C     S     A     O     S     O     N     H     O     O     Z     C     A     S     M     G     Z     S     U     U     X     M     V     U     A     Z     A     P     T     U     M     G     K     P     S     O     O     Z     B     O     T     N     H     P     S     A     O     M     O     L     T     P     T     R     C     S     O     L     H     U     O     H     Z     J     O     Z     X     S     O     J     O     C     P     S     S     B     O     O     O     I     O     O     P     S     M     N     W     D     R     J     O     T     E     C     S     Z     O     U     Q     H     R     O     O     X     U     U     B     B     P     O     X     B     J     Q     V     V     P     L     E     O     E     M     W     A     S     W     B     X     O     R     P     C     D     O     G     J     S     Z     N     U     J     I     O     O     G     N     J     M     N     L     E     U     Q     T     O     P     D     O     J     N     O     C     L     U     X     K     B     Y     S     M     U     Q     W     O     O     C     Y     O     Z     A     A     M     E     S     N     O     W     S     C     X     B     S     X     M     Q     O     E     S     O     N     P     D     B     C     O     H     T     O     S     S     O     X     U     G     P     Z     S     T     P     E     J     M     R     O     O     O     B     H     N     Q     O     C     L     U     O     N     P     J     S     O     O     R     C     Y     L     A     A     O     U     U     U     E     O     M     K     Q     N     T     P     W     U     Z     X     D     J     P     N     O     O     C     N     D     X     A     O     B     S     H     S     W     P     D     O     O     N     X     C     D     R     N     Y     A     S     V     N     T     Y     U     P     S     U     U     D     E     O     N     X     Z     W     S     W     J     O     P     O     L     N     E     P     P     U     C     S     D     Y     E     N     O     X     C     X     N     T     O     U     A     B     S     Q     O     G     S     O     D     U     T     S     S     A     S     V     A     U     L     S     S     T     T     E     P     O     A     S     T     L     O     N     O     O     O     S     S     S     S     J     E     T     R     V     P     S     O     W     L     S     O     Z     P     S     S     U     O     P     Q     C     M     D     M     V     O     U     O     S     U     Y     N     K     O     O     A     D     P     O     T     F     S     C     E     A     L     Z     O     S     J     S     S     J     S     R     M     S     S     Y     P     W     T     P     S     N     Y     T     A     M     L     L     C     L     Y     P     N     C     O     O     Y     Y     W     B     E     C     E     M     O     L     T     S     W     F     M     S     O     M     O     N     P     Q     O     X     G     O     S     A     U     R     N     S     L     E     U     U     F     Q     T     O     O     K     O     P     S     U     K     N     J     E     N     K     S     S     K     L     O     S     M     O     O     O     T     O     U     E     N     N     O     B     T     O     O     P     O     W     S     W     Y     Y     E     X     U     Y     L     O     S     N     M     E     Q     O     Y     O     T     W     C     O     N     S     D     K     O     U     A     M     O     C     U     S     R     M     T     K     D     A     T     W     B     B     C     O     T     T     D     N     O     Y     B     Z     Y     Q     O     E     E     M     O     R     S     O     A     O     H     O     G     B     Y     J     A     O     B     C     S     M     C     T     S     J     W     U     J     W     Y     G     U     V     W     N     S     S     U     T     V     O     J     E     V     O     Y     C     R     O     O     C     J     O     R     J     T     Z     T     T     S     J     U     O     T     B     U     U     D     E     G     C     P     N     U     O     P     U     A     J     M     S     N     S     A     T     J     K     U     O     K     E     S     Z     S     H     C     P     U     S     S     C     O     A     O     N     K     E     T     A     S     B     P     S     S     O     B     R     U     T     O     P     V     S     M     S     N     O     O     S     P     M     U     S     O     R     A     S     X     Q     S     S     T     I     P     O     O     J     K     R     L     S     X     D     P     M     O     P     P     N     C     N     N     N     R     O     K     P     U     N     S     T     T     O     N     G     C     X     M     G     D     B     L     N     T     S     R     L     O     O     E     O     O     S     U     O     G     L     L     Q     S     N     B     R     D     J     S     S     R     P     Y     E     J     U     S     S     G     O     U     L     S     C     M     T     C     S     Z     X     W     K     W     T     O     U     U     L     N     Y     D     W     U     O     H     S     Y     T     T     T     N     A     B     S     J     M     W     S     M     Y     S     O     S     A     J     D     H     Z     Q     C     M     O     O     R     N     U     U     K     U     J     A     O     P     U     O     M     T     S     S     H     S     S     C     O     N     H     O     S     S     O     S     A     S     P     X     P     U     S     U     L     Q     A     M     S     Y     V     P     S     N     C     O     T     O     A     M     O     S     S     P     S     W     W     Z     N     T     Z     T     X     X     W     P     J     X     O     P     E     O     L     U     B     S     U     C     K     M     E     H     S     N     M     T     Q     H     R     D     W     O     Y     O     U     H     M     Z     U     C     O     O     T     D     Q     J     O     B     L     O     B     O     R     U     P     T     T     I     S     P     D     U     K     U     O     O     O     P     T     N     T     E     T     P     O     U     L     S     E     I     R     D     Y     P     N     U     C     U     E     V     O     A     U     Z     O     S     N     L     O     S     Z     W     X     O     G     N     S     D     A     S     C     O     U     C     S     P     U     T     A     R     C     S     E     P     Y     U     Y     S     O     S     J     O     M     U     U     T     E     O     O     J     S     Q     A     O     R     K     E     N     P     U     U     M     M     A     P     L     R     P     H     C     A     R     N     P     X     P     Y     N     U     S     C     H     U     T     S     P     M     O     S     E     O     K     Q     S     S     R     O     O     N     O     E     L     O     O     J     U     P     M     E     S     S     Z     O     M     G     U     L     Y     T     S     J     J     N     B     P     L     P     H     U     P     P     O     S     S     U     H     S     T     S     B     S     C     O     S     Z     S     O     S     E     O     U     H     C     J     Z     B     S     T     T     J     O     R     B     S     S     V     C     P     O     C     P     T     N     S     S     Y     S     O     X     D     A     S     L     M     R     S     S     K     S     H     O     S     B     J     S     O     U     U     Y     T     N     S     H     O     H     W     T     R     Q     A     P     Z     S     U     T     C     S     U     A     T     A     S     A     T     J     E     S     M     Q     H     U     O     T     A     O     C     S     O     B     R     K     E     B     A     O     O     S     U     P     B     S     U     O     Y     Y     U     O     N     U     R     O     E     W     X     A     O     O     E     L     C     K     C     S     D     O     T     Y     S     U     U     Z     P     T     C     O     Y     S     O     S     E     E     Z     T     N     A     N     T     T     P     S     U     T     Z     T     B     R     C     A     Q     N     O     J     Q     O     O     S     P     E     S     T     L     A     S     S     S     V     U     E     E     Z     B     G     Q     E     S     P     Y     A     S     S     S     L     O     O     P     S\n"
          ]
        }
      ],
      "metadata": {
        "colab": {
          "base_uri": "https://localhost:8080/"
        },
        "id": "i9eeFCnluA8W",
        "outputId": "147c3fb9-91e2-4ec8-a9b7-8b593cd32fd3"
      }
    },
    {
      "cell_type": "code",
      "execution_count": 33,
      "source": [
        "correct = 0\r\n",
        "total = 0\r\n",
        "with torch.no_grad():\r\n",
        "    for data in testloader:\r\n",
        "        images, labels = data[0].to(device), data[1].to(device)\r\n",
        "        outputs = model(images)\r\n",
        "        _, predicted = torch.max(outputs.data, 1)\r\n",
        "        total += labels.size(0)\r\n",
        "        correct += (predicted == labels).sum().item()\r\n",
        "\r\n",
        "print('Accuracy of the network on the 3776 test images: %d %%' % (100 * correct / total))"
      ],
      "outputs": [
        {
          "output_type": "stream",
          "name": "stdout",
          "text": [
            "Accuracy of the network on the 3776 test images: 97 %\n"
          ]
        }
      ],
      "metadata": {
        "colab": {
          "base_uri": "https://localhost:8080/"
        },
        "id": "_KOlLDU5uW4q",
        "outputId": "f2cd4f8a-b91a-4192-c47f-25f49c506a16"
      }
    },
    {
      "cell_type": "code",
      "execution_count": 34,
      "source": [
        "class_correct = list(0. for i in range(len(classes)))\r\n",
        "class_total = list(0. for i in range(len(classes)))\r\n",
        "with torch.no_grad():\r\n",
        "    for data in testloader:\r\n",
        "        images, labels = data[0].to(device), data[1].to(device)\r\n",
        "        outputs = model(images)\r\n",
        "        _, predicted = torch.max(outputs, 1)\r\n",
        "        c = (predicted == labels).squeeze()\r\n",
        "        for i in range(batch):\r\n",
        "            label = labels[i]\r\n",
        "            class_correct[label] += c[i].item()\r\n",
        "            class_total[label] += 1\r\n",
        "\r\n",
        "\r\n",
        "for i in range(len(classes)):\r\n",
        "    print('Accuracy of %5s : %2d %%' % (\r\n",
        "        classes[i], 100 * class_correct[i] / class_total[i]))"
      ],
      "outputs": [
        {
          "output_type": "stream",
          "name": "stdout",
          "text": [
            "Accuracy of     A : 96 %\n",
            "Accuracy of     B : 95 %\n",
            "Accuracy of     C : 97 %\n",
            "Accuracy of     D : 92 %\n",
            "Accuracy of     E : 96 %\n",
            "Accuracy of     F : 93 %\n",
            "Accuracy of     G : 87 %\n",
            "Accuracy of     H : 90 %\n",
            "Accuracy of     I : 95 %\n",
            "Accuracy of     J : 96 %\n",
            "Accuracy of     K : 94 %\n",
            "Accuracy of     L : 97 %\n",
            "Accuracy of     M : 97 %\n",
            "Accuracy of     N : 97 %\n",
            "Accuracy of     O : 98 %\n",
            "Accuracy of     P : 98 %\n",
            "Accuracy of     Q : 93 %\n",
            "Accuracy of     R : 95 %\n",
            "Accuracy of     S : 99 %\n",
            "Accuracy of     T : 98 %\n",
            "Accuracy of     U : 97 %\n",
            "Accuracy of     V : 97 %\n",
            "Accuracy of     W : 94 %\n",
            "Accuracy of     X : 95 %\n",
            "Accuracy of     Y : 96 %\n",
            "Accuracy of     Z : 98 %\n"
          ]
        }
      ],
      "metadata": {
        "colab": {
          "base_uri": "https://localhost:8080/"
        },
        "id": "NGYI8EoXub2b",
        "outputId": "fef9aa4d-5927-4789-9204-f95fef5c1d57"
      }
    },
    {
      "cell_type": "code",
      "execution_count": 26,
      "source": [
        "import os\r\n",
        "folders = os.listdir(\"Fonts\")"
      ],
      "outputs": [],
      "metadata": {
        "id": "kvMO3AWtvFLi"
      }
    },
    {
      "cell_type": "code",
      "execution_count": null,
      "source": [
        "folders"
      ],
      "outputs": [],
      "metadata": {
        "colab": {
          "base_uri": "https://localhost:8080/"
        },
        "id": "dsIrweCJvLoq",
        "outputId": "3d0a9c76-76c4-4c20-da72-7dd9675e4558"
      }
    },
    {
      "cell_type": "code",
      "execution_count": null,
      "source": [
        "for i in folders :\r\n",
        "  print(i,len(os.listdir(os.path.join(\"Fonts\",i))))"
      ],
      "outputs": [],
      "metadata": {
        "colab": {
          "base_uri": "https://localhost:8080/"
        },
        "id": "dGPFj7bnvO1K",
        "outputId": "271dc057-b7f6-4b8a-a79d-762249acdc77"
      }
    },
    {
      "cell_type": "code",
      "execution_count": 28,
      "source": [],
      "outputs": [],
      "metadata": {
        "id": "JE2HArzTvfEq"
      }
    }
  ]
}